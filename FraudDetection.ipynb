{
 "cells": [
  {
   "cell_type": "markdown",
   "metadata": {},
   "source": [
    "### Mega Case Study - Making a hybrid Deep Learning Model"
   ]
  },
  {
   "cell_type": "code",
   "execution_count": 1,
   "metadata": {},
   "outputs": [],
   "source": [
    "import numpy as np\n",
    "import pandas as pd\n",
    "import matplotlib.pyplot as plt\n",
    "import seaborn as sns\n",
    "import tensorflow as tf\n",
    "from tensorflow import keras\n",
    "from tensorflow.keras import layers\n",
    "import warnings \n",
    "warnings.filterwarnings (action= 'ignore')\n",
    "plt.style.use(['seaborn-bright' , 'dark_background'])"
   ]
  },
  {
   "cell_type": "markdown",
   "metadata": {},
   "source": [
    "### Note :\n",
    "1. SOMs retain topology of the input set\n",
    "2. SOMs reveal correlation that are not easilt identified\n",
    "3. SOMs classfiy data without supervision \n",
    "4. No target vector -> no back-propagation \n",
    "5. No lateral connections between outpot nodes (No neural netweok type of connection)"
   ]
  },
  {
   "cell_type": "markdown",
   "metadata": {},
   "source": [
    "## Fraud Detection "
   ]
  },
  {
   "cell_type": "code",
   "execution_count": 2,
   "metadata": {},
   "outputs": [],
   "source": [
    "data = pd.read_csv('Credit_Card_Applications.csv')\n",
    "X = data.iloc[: , :-1].values\n",
    "Y = data.iloc[: , -1].values"
   ]
  },
  {
   "cell_type": "markdown",
   "metadata": {},
   "source": [
    "### Feature Scaler"
   ]
  },
  {
   "cell_type": "code",
   "execution_count": 3,
   "metadata": {},
   "outputs": [
    {
     "data": {
      "text/plain": [
       "array([[8.42681467e-01, 1.00000000e+00, 1.25263158e-01, ...,\n",
       "        5.00000000e-01, 5.00000000e-02, 1.21200000e-02],\n",
       "       [6.96090562e-01, 0.00000000e+00, 1.34135338e-01, ...,\n",
       "        5.00000000e-01, 8.00000000e-02, 0.00000000e+00],\n",
       "       [3.88981656e-01, 0.00000000e+00, 2.38045113e-01, ...,\n",
       "        5.00000000e-01, 1.40000000e-01, 0.00000000e+00],\n",
       "       ...,\n",
       "       [4.39420332e-01, 0.00000000e+00, 7.63909774e-02, ...,\n",
       "        5.00000000e-01, 5.00000000e-02, 0.00000000e+00],\n",
       "       [8.44034934e-01, 0.00000000e+00, 2.05563910e-01, ...,\n",
       "        5.00000000e-01, 6.00000000e-02, 1.10000000e-04],\n",
       "       [1.06907888e-01, 1.00000000e+00, 4.09774436e-01, ...,\n",
       "        0.00000000e+00, 2.80000000e-01, 0.00000000e+00]])"
      ]
     },
     "execution_count": 3,
     "metadata": {},
     "output_type": "execute_result"
    }
   ],
   "source": [
    "from sklearn.preprocessing import MinMaxScaler\n",
    "sc = MinMaxScaler(feature_range = (0 , 1))\n",
    "sc.fit_transform(X)"
   ]
  },
  {
   "cell_type": "markdown",
   "metadata": {},
   "source": [
    "### Training the SOM"
   ]
  },
  {
   "cell_type": "code",
   "execution_count": 5,
   "metadata": {},
   "outputs": [],
   "source": [
    "from minisom import MiniSom\n",
    "som = MiniSom(x = 10 , y = 10 , input_len = 15  , sigma = 1 , learning_rate = 0.5)\n",
    "som.random_weights_init(X)\n",
    "som.train_random(data = X , num_iteration = 100)"
   ]
  },
  {
   "cell_type": "markdown",
   "metadata": {},
   "source": [
    "* The neighbourhood radius is the sigma in the gaussian function."
   ]
  },
  {
   "cell_type": "markdown",
   "metadata": {},
   "source": [
    "### Visualising the Results"
   ]
  },
  {
   "cell_type": "code",
   "execution_count": 9,
   "metadata": {},
   "outputs": [
    {
     "data": {
      "image/png": "[encoded data removed]",
      "text/plain": [
       "<Figure size 432x288 with 2 Axes>"
      ]
     },
     "metadata": {},
     "output_type": "display_data"
    }
   ],
   "source": [
    "from pylab import bone , pcolor , colorbar , plot , show\n",
    "bone()\n",
    "pcolor(som.distance_map().T)\n",
    "# .T takes the transpose of the map\n",
    "\n",
    "colorbar()\n",
    "markers = ['o' , 's']\n",
    "colors = ['r' , 'g']\n",
    "\n",
    "for i , x in enumerate(X):\n",
    "    w = som.winner(x)\n",
    "    plot(w[0] + 0.5 , w[1] + 0.5 , markers[Y[i]],\n",
    "    markeredgecolor = colors[Y[i]],\n",
    "    markerfacecolor = None,\n",
    "    markersize = 10,\n",
    "    markeredgewidth = 2)\n",
    "# We add 0.5 to put the maker at the centre\n",
    "\n",
    "show()\n"
   ]
  },
  {
   "cell_type": "markdown",
   "metadata": {},
   "source": [
    "### Finding the frauds"
   ]
  },
  {
   "cell_type": "code",
   "execution_count": 10,
   "metadata": {},
   "outputs": [],
   "source": [
    "mappings = som.win_map(X)\n",
    "frauds = np.concatenate((mappings[(3,9)] , mappings[(3,3)]) , axis = 0)\n",
    "frauds = sc.inverse_transform(frauds)"
   ]
  },
  {
   "cell_type": "markdown",
   "metadata": {},
   "source": [
    "### Part 2 - Going from unsupervised to supervised"
   ]
  },
  {
   "cell_type": "code",
   "execution_count": 11,
   "metadata": {},
   "outputs": [],
   "source": [
    "customers = data.iloc[: , 1:].values"
   ]
  },
  {
   "cell_type": "markdown",
   "metadata": {},
   "source": [
    "### Creating the matrix of features"
   ]
  },
  {
   "cell_type": "code",
   "execution_count": 13,
   "metadata": {},
   "outputs": [],
   "source": [
    "customers = data.iloc[: , 1: ].values "
   ]
  },
  {
   "cell_type": "markdown",
   "metadata": {},
   "source": [
    "### Creating the dependent variable"
   ]
  },
  {
   "cell_type": "code",
   "execution_count": 15,
   "metadata": {},
   "outputs": [],
   "source": [
    "is_fraud = np.zeros(len(data))\n",
    "for i in range(len(data)):\n",
    "    if data.iloc[i , 0] in frauds:\n",
    "        is_fraud[i] = 1"
   ]
  },
  {
   "cell_type": "markdown",
   "metadata": {},
   "source": [
    "### Part 3 - ANN"
   ]
  },
  {
   "cell_type": "markdown",
   "metadata": {},
   "source": [
    "### Feature Scaling "
   ]
  },
  {
   "cell_type": "code",
   "execution_count": 16,
   "metadata": {},
   "outputs": [],
   "source": [
    "from sklearn.preprocessing import StandardScaler\n",
    "sc = StandardScaler()\n",
    "customers = sc.fit_transform(customers)"
   ]
  },
  {
   "cell_type": "code",
   "execution_count": 17,
   "metadata": {},
   "outputs": [],
   "source": [
    "from keras import models\n",
    "ann = models.Sequential()"
   ]
  },
  {
   "cell_type": "markdown",
   "metadata": {},
   "source": [
    "### Adding the input layer and the first hidden layer "
   ]
  },
  {
   "cell_type": "code",
   "execution_count": 18,
   "metadata": {},
   "outputs": [],
   "source": [
    "ann.add(layers.Dense(units = 2 , activation = 'relu'))"
   ]
  },
  {
   "cell_type": "markdown",
   "metadata": {},
   "source": [
    "### Adding the output layer"
   ]
  },
  {
   "cell_type": "code",
   "execution_count": 19,
   "metadata": {},
   "outputs": [],
   "source": [
    "ann.add(layers.Dense(units = 1 , activation = 'sigmoid'))"
   ]
  },
  {
   "cell_type": "markdown",
   "metadata": {},
   "source": [
    "### Compiling the ANN"
   ]
  },
  {
   "cell_type": "code",
   "execution_count": 20,
   "metadata": {},
   "outputs": [],
   "source": [
    "ann.compile(optimizer = 'adam' , loss = 'binary_crossentropy', metrics = ['accuracy'])"
   ]
  },
  {
   "cell_type": "markdown",
   "metadata": {},
   "source": [
    "### Training the ANN on the Training set"
   ]
  },
  {
   "cell_type": "code",
   "execution_count": 21,
   "metadata": {},
   "outputs": [
    {
     "name": "stdout",
     "output_type": "stream",
     "text": [
      "Epoch 1/10\n",
      "690/690 [==============================] - 13s 2ms/step - loss: 0.3936 - accuracy: 0.9652\n",
      "Epoch 2/10\n",
      "690/690 [==============================] - 1s 1ms/step - loss: 0.1855 - accuracy: 1.0000\n",
      "Epoch 3/10\n",
      "690/690 [==============================] - 1s 1ms/step - loss: 0.0657 - accuracy: 1.0000\n",
      "Epoch 4/10\n",
      "690/690 [==============================] - 1s 1ms/step - loss: 0.0226 - accuracy: 1.0000\n",
      "Epoch 5/10\n",
      "690/690 [==============================] - 1s 1ms/step - loss: 0.0110 - accuracy: 1.0000\n",
      "Epoch 6/10\n",
      "690/690 [==============================] - 1s 1ms/step - loss: 0.0055 - accuracy: 1.0000\n",
      "Epoch 7/10\n",
      "690/690 [==============================] - 1s 1ms/step - loss: 0.0029 - accuracy: 1.0000\n",
      "Epoch 8/10\n",
      "690/690 [==============================] - 1s 1ms/step - loss: 0.0017 - accuracy: 1.0000\n",
      "Epoch 9/10\n",
      "690/690 [==============================] - 1s 2ms/step - loss: 0.0010 - accuracy: 1.0000: 0s - loss: 0.0011 \n",
      "Epoch 10/10\n",
      "690/690 [==============================] - 1s 1ms/step - loss: 6.3633e-04 - accuracy: 1.0000\n"
     ]
    },
    {
     "data": {
      "text/plain": [
       "<keras.callbacks.History at 0x24576decc70>"
      ]
     },
     "execution_count": 21,
     "metadata": {},
     "output_type": "execute_result"
    }
   ],
   "source": [
    "ann.fit(customers , is_fraud , batch_size = 1 , epochs = 10)"
   ]
  },
  {
   "cell_type": "markdown",
   "metadata": {},
   "source": [
    "### Predicting test set results"
   ]
  },
  {
   "cell_type": "code",
   "execution_count": 22,
   "metadata": {},
   "outputs": [],
   "source": [
    "y_pred = ann.predict(customers)\n",
    "y_pred = np.concatenate((data.iloc[: , 0 :1].values , y_pred) , axis = 1)\n",
    "y_pred = y_pred[y_pred[: , 1].argsort()]"
   ]
  },
  {
   "cell_type": "code",
   "execution_count": 23,
   "metadata": {},
   "outputs": [
    {
     "name": "stdout",
     "output_type": "stream",
     "text": [
      "[[1.56009750e+07 3.19089509e-07]\n",
      " [1.56214230e+07 4.83856638e-07]\n",
      " [1.56430560e+07 6.65005416e-07]\n",
      " ...\n",
      " [1.55924120e+07 9.10058618e-03]\n",
      " [1.56924080e+07 9.78532434e-03]\n",
      " [1.57440440e+07 1.68220103e-02]]\n"
     ]
    }
   ],
   "source": [
    "print(y_pred)"
   ]
  }
 ],
 "metadata": {
  "interpreter": {
   "hash": "3ba20c9b3d080635768f0bd7ce5f3158a65b5f0f28269279444906c652d310d1"
  },
  "kernelspec": {
   "display_name": "Python 3.8.8 ('base')",
   "language": "python",
   "name": "python3"
  },
  "language_info": {
   "codemirror_mode": {
    "name": "ipython",
    "version": 3
   },
   "file_extension": ".py",
   "mimetype": "text/x-python",
   "name": "python",
   "nbconvert_exporter": "python",
   "pygments_lexer": "ipython3",
   "version": "3.8.8"
  },
  "orig_nbformat": 4
 },
 "nbformat": 4,
 "nbformat_minor": 2
}
